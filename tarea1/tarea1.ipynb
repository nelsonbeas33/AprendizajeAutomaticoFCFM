{
  "nbformat": 4,
  "nbformat_minor": 0,
  "metadata": {
    "colab": {
      "provenance": [],
      "authorship_tag": "ABX9TyMgcSopv8BNG0FuPEubqZsq",
      "include_colab_link": true
    },
    "kernelspec": {
      "name": "python3",
      "display_name": "Python 3"
    },
    "language_info": {
      "name": "python"
    }
  },
  "cells": [
    {
      "cell_type": "markdown",
      "metadata": {
        "id": "view-in-github",
        "colab_type": "text"
      },
      "source": [
        "<a href=\"https://colab.research.google.com/github/nelsonbeas33/AprendizajeAutomaticoFCFM/blob/main/tarea1/tarea1.ipynb\" target=\"_parent\"><img src=\"https://colab.research.google.com/assets/colab-badge.svg\" alt=\"Open In Colab\"/></a>"
      ]
    },
    {
      "cell_type": "code",
      "execution_count": null,
      "metadata": {
        "id": "P1uCwkOW9gzS"
      },
      "outputs": [],
      "source": [
        "# prompt: genera una regresión lineal para para un grupo de datos facil\n",
        "\n",
        "import numpy as np\n",
        "import matplotlib.pyplot as plt\n",
        "\n",
        "# Generate some random data\n",
        "x = np.random.rand(100)\n",
        "y = 2 * x + 3 + np.random.randn(100)\n",
        "\n",
        "# Fit a linear regression model\n",
        "model = np.polyfit(x, y, 1)\n",
        "predict = np.poly1d(model)\n",
        "\n",
        "# Plot the data and the regression line\n",
        "plt.scatter(x, y)\n",
        "plt.plot(x, predict(x), color='red')\n",
        "plt.show()\n"
      ]
    }
  ]
}